{
 "cells": [
  {
   "cell_type": "markdown",
   "metadata": {
    "collapsed": true
   },
   "source": [
    "# 3D fault modelling\n",
    "\n",
    "In this example, we simulate basin formation in the depression induced by a combined normal and strike-slip fault system. \n",
    "\n",
    "<div align=\"center\">\n",
    "    <img src=\"images/settings.png\" alt=\"fault system\" width=\"500\" height=\"200\"/>\n",
    "</div>\n",
    "\n",
    "We investigate the impact of erodibility coefficient on preservation of the basin over 100k years. \n",
    "\n",
    "Each run starts with an inclined topography ($<0.5/100$) over which a constant precipitation rate (1 m/a) is applied. After 2000 years the 3D displacements combining the normal and strike-slip components (kindly provided by [Guillaume Duclaux](http://www.uib.no/en/persons/Guillaume.Duclaux)) are applied. The model applies 5 times the same displacements up to the simulation end time (100k years). \n",
    "\n",
    "## Initial settings\n",
    "\n",
    "For this model, we use the *stream power law sediment transport model* which scale the incision rate $E$ as a power function of surface water discharge $A$ and slope $S=\\nabla z$:\n",
    "\n",
    "$$ E = \\kappa A^m (\\nabla z)^n$$\n",
    "\n",
    "where $\\kappa$ is the erodibility coefficient dependent on lithology and mean precipitation rate, channel width, flood frequency, channel hydraulics.\n",
    "\n",
    "The values given to these parameters ($\\kappa$, $m$, $n$) need to be set in the **XmL** input file. To evaluate the role of the erodibility coefficient we keep the values of $m$ and $n$ constant for each of our run but we will change the coefficient of erodibility between each run:\n",
    "+ $\\kappa = 2.5 e^{-6}$ /a\n",
    "+ $\\kappa = 5.0 e^{-6}$ /a\n",
    "+ $\\kappa = 1.0 e^{-5}$ /a\n",
    "\n",
    "In this model, we need the top surface (TIN) is reevaluate every 500 years to make sure the Delaunay triangulation distortion induced by the horizontal displacements is minimal. If this is not the case the surface is automatically remeshed to:\n",
    "+ ensure homogeneous nodes distribution when sparse areas exist\n",
    "+ limit nodes concentration in node dense areas\n",
    "\n",
    "## Starting pyBadlands\n",
    "\n",
    "First we initialise the model and set the path to the **XmL** input file.\n",
    "\n",
    "You can edit the **XmL** configuration file at [/edit/volume/Examples/strikeslip/strikeslip.xml](/edit/volume/Examples/strikeslip/strikeslip.xml).\n",
    "\n",
    "To view the complete **XmL** options you can follow this link to github page: [complete.xml](https://github.com/badlands-model/pyBadlands/blob/master/Examples/input_complete.xml)."
   ]
  },
  {
   "cell_type": "code",
   "execution_count": null,
   "metadata": {
    "collapsed": false,
    "scrolled": true
   },
   "outputs": [],
   "source": [
    "from pyBadlands.model import Model as badlandsModel\n",
    "# If you'd like to run this across an MPI cluster, instead use\n",
    "#from pyBadlands.remote import RemoteModel as badlandsModel\n",
    "\n",
    "# initialise model\n",
    "model = badlandsModel()\n",
    "model.load_xml('strike-slip.xml')"
   ]
  },
  {
   "cell_type": "markdown",
   "metadata": {},
   "source": [
    "## Running pyBadlands\n",
    "\n",
    "We can run the model for a given period. The end time in the **XmL** input file is set to _100k years_ but you might want to run the model for a coupled of iterations and check the output before running the model for the entire simulation time. This is done by putting the time in the **run_to_time** function. \n",
    "\n",
    "Here we go for the full time directly... it should take between 5 and 10 minutes depending of the chosen coefficient value on a single processor if you keep the other parameters unchanged. "
   ]
  },
  {
   "cell_type": "code",
   "execution_count": null,
   "metadata": {
    "collapsed": false,
    "scrolled": false
   },
   "outputs": [],
   "source": [
    "model.run_to_time(100000)"
   ]
  },
  {
   "cell_type": "markdown",
   "metadata": {},
   "source": [
    "# Visualise in Paraview\n",
    "\n",
    "For an in-depth visualisation of the model output it is recommended to install on your local machine a visualisation package such as [Paraview](http://www.paraview.org) or [Visit](https://wci.llnl.gov/simulation/computer-codes/visit/).\n",
    "\n",
    "**Badlands** outputs are created in the directory you've specified in your **XmL** input file. In cases where you have ran several instances of the same input you will end up with multiple directories with the same name followed with the simulation number.\n",
    "\n",
    "The folder contains xdmf series files:\n",
    "+ **tin.series.xdmf** which will display the time series of surface evolution.\n",
    "+ **flow.series.xdmf** which will display the time series of drainage network evolution.\n",
    "\n",
    "### Elevation change\n",
    "\n",
    "| Time step 25| Time step 160 | \n",
    "| :-------------: |:-------------:|\n",
    "| <img src=\"images/step10.png\" alt=\"Step 10\" width=\"400\" height=\"300\" border=\"10\" />| <img src=\"images/step25.png\" alt=\"Step 25\" width=\"400\" height=\"300\" border=\"10\" /> | \n",
    "\n",
    "| Time step 250| Time step 400| \n",
    "| :-------------: |:-------------:|\n",
    "| <img src=\"images/step38.png\" alt=\"Step 38\" width=\"400\" height=\"300\" border=\"10\" /> | <img src=\"images/step49.png\" alt=\"Step 49\" width=\"400\" height=\"300\" border=\"10\" />|\n",
    "\n",
    "### Comparisons between models\n",
    "\n",
    "| Different $\\kappa$ values| \n",
    "|:-------------:|\n",
    "|<img src=\"images/step50.png\" alt=\"Step 50\" width=\"500\" height=\"300\"/>|\n",
    "\n",
    "In the next notebooks we will use the [Badlands companion](https://github.com/badlands-model/pyBadlands-Companion)  python classes to look at some of the available post-processing functions to visualise the volume of sediment deposited through time for the different erodibility coefficients."
   ]
  },
  {
   "cell_type": "code",
   "execution_count": null,
   "metadata": {
    "collapsed": true
   },
   "outputs": [],
   "source": []
  }
 ],
 "metadata": {
  "kernelspec": {
   "display_name": "Python 2",
   "language": "python",
   "name": "python2"
  },
  "language_info": {
   "codemirror_mode": {
    "name": "ipython",
    "version": 2
   },
   "file_extension": ".py",
   "mimetype": "text/x-python",
   "name": "python",
   "nbconvert_exporter": "python",
   "pygments_lexer": "ipython2",
   "version": "2.7.6"
  }
 },
 "nbformat": 4,
 "nbformat_minor": 0
}
