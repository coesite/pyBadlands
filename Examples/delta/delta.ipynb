{
 "cells": [
  {
   "cell_type": "markdown",
   "metadata": {
    "collapsed": true
   },
   "source": [
    "# Delta evolution with sea-level change\n",
    "\n",
    "In this example, we investigate the formation of river-dominated deltas under _steady climatic conditions_ (uniform precipitation) and _sea-level fluctuations_. Our goal is to reproduced **first-order sea-level control on river deltas formation**. \n",
    "\n",
    "The initial surface defines a mount which is a half ellipsoid of 2 km height and a circular diameter of 8 km. The sea-level is initially set at the base of this mount at an elevation of 0 m. A uniform precipitation rate of 1 m/a is applied on the entire area and we test the evolution of the surface and associated deposits due to both hillslope and channel flow. Two diffusion coefficients are defined for the aerial (0.3 m2/a) and marine (0.5 m2/a) environments. The higher value for the marine environment is used to account for sediments reworking by waves and/or currents. The simulation runs for 0.5 Ma and we vary the sea-level through time.\n",
    "\n",
    "## Initial settings\n",
    " \n",
    "| Initial elevation | Selevel | \n",
    "| :-------------: |:-------------:|\n",
    "| <img src=\"images/initialsurface.png\" alt=\"surface step 0\" width=\"300\" height=\"400\" border=\"10\" />| <img src=\"images/sealevel.png\" alt=\"sealevel\" width=\"200\" height=\"200\" border=\"10\" /> | \n",
    "|[Badlands companion](https://github.com/badlands-model/pyBadlands-Companion): **toolGeo python class**|[Badlands companion](https://github.com/badlands-model/pyBadlands-Companion): **toolSea python class**|\n",
    "\n",
    "For this model, we use the *stream power law sediment transport model* which scale the incision rate $E$ as a power function of surface water discharge $A$ and slope $S=\\nabla z$:\n",
    "\n",
    "$$ E = \\kappa A^m (\\nabla z)^n$$\n",
    "\n",
    "where $\\kappa$ is the erodibility coefficient dependent on lithology and mean precipitation rate, channel width, flood frequency, channel hydraulics.\n",
    "\n",
    "The values given to these parameters ($\\kappa$, $m$, $n$) need to be set in the **XmL** input file.\n",
    "\n",
    "\n",
    "## Starting pyBadlands\n",
    "\n",
    "First we initialise the model and set the path to the **XmL** input file.\n",
    "\n",
    "You can edit the **XmL** configuration file at [/edit/volume/Examples/delta/delta.xml](/edit/volume/Examples/delta/delta.xml).\n",
    "\n",
    "To view the complete **XmL** options you can follow this link to github page: [complete.xml](https://github.com/badlands-model/pyBadlands/blob/master/Examples/input_complete.xml)."
   ]
  },
  {
   "cell_type": "code",
   "execution_count": null,
   "metadata": {
    "collapsed": false,
    "scrolled": true
   },
   "outputs": [],
   "source": [
    "from pyBadlands.model import Model as badlandsModel\n",
    "\n",
    "# Initialise model\n",
    "model = badlandsModel()\n",
    "# Define the XmL input file\n",
    "model.load_xml('delta.xml')"
   ]
  },
  {
   "cell_type": "markdown",
   "metadata": {},
   "source": [
    "## Running pyBadlands\n",
    "\n",
    "We can run the model for a given period. The end time in the **XmL** input file is set to _500k years_ but you might want to run the model for a coupled of iterations and check the output before running the model for the entire simulation time. This is done by putting the time in the **run_to_time** function. \n",
    "\n",
    "Here we go for the full time directly... it should take about 5 minutes on a single processor if you keep the initial setting unchanged."
   ]
  },
  {
   "cell_type": "code",
   "execution_count": null,
   "metadata": {
    "collapsed": false,
    "scrolled": true
   },
   "outputs": [],
   "source": [
    "# Run model for 500k years. This takes a few minutes.\n",
    "model.run_to_time(500000)"
   ]
  },
  {
   "cell_type": "markdown",
   "metadata": {},
   "source": [
    "# Visualise in Paraview\n",
    "\n",
    "For an in-depth visualisation of the model output it is recommended to install on your local machine a visualisation package such as [Paraview](http://www.paraview.org) or [Visit](https://wci.llnl.gov/simulation/computer-codes/visit/).\n",
    "\n",
    "**Badlands** outputs are created in the directory you've specified in your **XmL** input file. In cases where you have ran several instances of the same input you will end up with multiple directories with the same name followed with the simulation number.\n",
    "\n",
    "The folder contains xdmf series files:\n",
    "+ **tin.series.xdmf** which will display the time series of surface evolution.\n",
    "+ **flow.series.xdmf** which will display the time series of drainage network evolution.\n",
    "\n",
    "| Time step 25| Time step 50 | \n",
    "| :-------------: |:-------------:|\n",
    "| <img src=\"images/step25.png\" alt=\"Step 25\" width=\"540\" height=\"180\" border=\"10\" />| <img src=\"images/step50.png\" alt=\"Step 50\" width=\"540\" height=\"180\" border=\"10\" /> | \n",
    "\n",
    "| Time step 75| Time step 100| \n",
    "| :-------------: |:-------------:|\n",
    "| <img src=\"images/step75.png\" alt=\"Step 75\" width=\"540\" height=\"180\" border=\"10\" /> | <img src=\"images/step100.png\" alt=\"Step 75\" width=\"540\" height=\"180\" border=\"10\" />|\n",
    "\n",
    "Using paraview you will be able to extract several of the information computed by badlands and there also in the [Badlands companion](https://github.com/badlands-model/pyBadlands-Companion) container additional post-processing functions to look at:\n",
    "+ **morphometrics **\n",
    "+ **hydrometrics **\n"
   ]
  },
  {
   "cell_type": "code",
   "execution_count": null,
   "metadata": {
    "collapsed": true
   },
   "outputs": [],
   "source": []
  }
 ],
 "metadata": {
  "kernelspec": {
   "display_name": "Python 2",
   "language": "python",
   "name": "python2"
  },
  "language_info": {
   "codemirror_mode": {
    "name": "ipython",
    "version": 2
   },
   "file_extension": ".py",
   "mimetype": "text/x-python",
   "name": "python",
   "nbconvert_exporter": "python",
   "pygments_lexer": "ipython2",
   "version": "2.7.6"
  }
 },
 "nbformat": 4,
 "nbformat_minor": 0
}
