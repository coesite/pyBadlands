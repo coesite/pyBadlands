{
 "cells": [
  {
   "cell_type": "markdown",
   "metadata": {
    "collapsed": true
   },
   "source": [
    "# Circular landforms\n",
    "\n",
    "\n",
    "\n",
    "|<img src=\"images/circular_form.png\" alt=\"circular landform\" width=\"350\" height=\"200\"/>| <img src=\"images/tin.png\" alt=\"model mesh\" width=\"350\" height=\"200\"/> |\n",
    "|:-:|:-:|\n",
    "|circular landform|Badlands surface|\n",
    "\n",
    "Left figure shows a _satellite image draped over a topographic model of Kondyor Massif, Russia. [Credit: NASA/GSFC/METI/ERSDAC/JAROS, and U.S./Japan ASTER Science Team]_\n",
    "\n",
    "The above circular landform is neither a crater nor a volcano, have a look at this [post](http://space.gizmodo.com/this-is-not-a-crater-so-what-is-it-1677228983) for an explanation of its formation.  \n",
    "\n",
    "In this example, we analyse a **central pit crater** geomorphological evolution over _200k_ years induced by an uniform precipitation (1 m/a). \n",
    "\n",
    "Central pit craters are a crater type that contains an approximately circular depression in their central peak. These craters have been found on _Earth_, _Mars_ or _Ganymede_. Here we use their typical shape to perform a high resolution simulation using Badlands.\n",
    "\n",
    "The initial grid has an approximate resolution of _10_ m and consists of a _2.5_ by _2.5_ km circular crater of _570_ m high with a central pit of _380_ m depth.\n",
    "\n",
    "\n",
    "## Initial settings\n",
    "\n",
    "For this model, we use the *stream power law sediment transport model* which scale the incision rate $E$ as a power function of surface water discharge $A$ and slope $S=\\nabla z$:\n",
    "\n",
    "$$ E = \\kappa A^m (\\nabla z)^n$$\n",
    "\n",
    "where $\\kappa$ is the erodibility coefficient dependent on lithology and mean precipitation rate, channel width, flood frequency, channel hydraulics.\n",
    "\n",
    "The values given to these parameters ($\\kappa$, $m$, $n$) need to be set in the **XmL** input file. \n",
    "\n",
    "### Depression filling method\n",
    "\n",
    "To handle depression in this version of **Badlands** (v 2.0.) we use a modified version of Planchon & Darboux depression-filling algorithm. In this approach the time step is automatically adjust in order to ensure stability and to prevent formation of depositional mount. The method consists in filling depressions with lakes of user-imposed maximum depth (parameter **fillmax**) and simulating the filling of the lake as an iterative process.\n",
    "\n",
    "## Starting pyBadlands\n",
    "\n",
    "First we initialise the model and set the path to the **XmL** input file.\n",
    "\n",
    "You can edit the **XmL** configuration file at [/edit/volume/Examples/crater/crater.xml](/edit/volume/Examples/crater/crater.xml).\n",
    "\n",
    "To view the complete **XmL** options you can follow this link to github page: [complete.xml](https://github.com/badlands-model/pyBadlands/blob/master/Examples/input_complete.xml)."
   ]
  },
  {
   "cell_type": "code",
   "execution_count": null,
   "metadata": {
    "collapsed": false,
    "scrolled": true
   },
   "outputs": [],
   "source": [
    "from pyBadlands.model import Model as badlandsModel\n",
    "\n",
    "# initialise model\n",
    "model = badlandsModel()\n",
    "# Define the XmL input file\n",
    "model.load_xml('crater.xml')"
   ]
  },
  {
   "cell_type": "markdown",
   "metadata": {},
   "source": [
    "## Running pyBadlands\n",
    "\n",
    "We can run the model for a given period. The end time in the **XmL** input file is set to _200k years_ but you might want to run the model for a coupled of iterations and check the output before running the model for the entire simulation time. This is done by putting the time in the **run_to_time** function. \n",
    "\n",
    "Here we go for the full time directly... it should take about 5 minutes on a single processor if you keep the other parameters unchanged. "
   ]
  },
  {
   "cell_type": "code",
   "execution_count": null,
   "metadata": {
    "collapsed": false,
    "scrolled": true
   },
   "outputs": [],
   "source": [
    "model.run_to_time(200000)"
   ]
  },
  {
   "cell_type": "markdown",
   "metadata": {},
   "source": [
    "# Visualise in Paraview\n",
    "\n",
    "For an in-depth visualisation of the model output it is recommended to install on your local machine a visualisation package such as [Paraview](http://www.paraview.org) or [Visit](https://wci.llnl.gov/simulation/computer-codes/visit/).\n",
    "\n",
    "**Badlands** outputs are created in the directory you've specified in your **XmL** input file. In cases where you have ran several instances of the same input you will end up with multiple directories with the same name followed with the simulation number.\n",
    "\n",
    "The folder contains xdmf series files:\n",
    "+ **tin.series.xdmf** which will display the time series of surface evolution.\n",
    "+ **flow.series.xdmf** which will display the time series of drainage network evolution.\n",
    "\n",
    "### Elevation change\n",
    "\n",
    "The stream power law implies the infill of the crater pit with alluvial fan deposits, whereas the crater rim gradually backwastes while maintaining a generally steep slope.\n",
    "\n",
    "Both the backwasting and the downcutting of the crater rim occur, so that in later stages of erosion (after _100k_ years the crater becomes rimless.\n",
    "\n",
    "\n",
    "| Time step 20| Time step 50 | \n",
    "| :-------------: |:-------------:|\n",
    "| <img src=\"images/step20.png\" alt=\"Step 20\" width=\"400\" height=\"300\" border=\"10\" />| <img src=\"images/step50.png\" alt=\"Step 50\" width=\"400\" height=\"300\" border=\"10\" /> | \n",
    "\n",
    "| Time step 100| Time step 200| \n",
    "| :-------------: |:-------------:|\n",
    "| <img src=\"images/step100.png\" alt=\"Step 100\" width=\"400\" height=\"300\" border=\"10\" /> | <img src=\"images/step200.png\" alt=\"Step 200\" width=\"400\" height=\"300\" border=\"10\" />|\n",
    "\n",
    "### Crater infilling\n",
    "\n",
    "Degradation of craters by fluvial erosion and deposition in this simulation result in rapid initial infilling but a slowing rate through time due to:\n",
    "\n",
    "+ the decreasing height of interior crater walls and \n",
    "+ the increasing area of deposition as the crater enlarges due to crater wall erosion. \n",
    "\n",
    "<div align=\"center\">\n",
    "    <img src=\"images/fill.png\" alt=\"crater infilling\" width=\"800\" height=\"800\"/>\n",
    "</div>"
   ]
  },
  {
   "cell_type": "code",
   "execution_count": null,
   "metadata": {
    "collapsed": true
   },
   "outputs": [],
   "source": []
  }
 ],
 "metadata": {
  "kernelspec": {
   "display_name": "Python 2",
   "language": "python",
   "name": "python2"
  },
  "language_info": {
   "codemirror_mode": {
    "name": "ipython",
    "version": 2
   },
   "file_extension": ".py",
   "mimetype": "text/x-python",
   "name": "python",
   "nbconvert_exporter": "python",
   "pygments_lexer": "ipython2",
   "version": "2.7.6"
  }
 },
 "nbformat": 4,
 "nbformat_minor": 0
}
